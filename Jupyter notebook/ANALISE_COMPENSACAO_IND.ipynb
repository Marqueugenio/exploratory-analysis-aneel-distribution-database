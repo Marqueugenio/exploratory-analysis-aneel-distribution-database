{
 "cells": [
  {
   "cell_type": "code",
   "execution_count": 1,
   "metadata": {},
   "outputs": [],
   "source": [
    "import pandas as pd\n",
    "import numpy as np\n",
    "import sqlite3\n",
    "import matplotlib.pyplot as plt\n",
    "import os\n",
    "from datetime import datetime as dt\n",
    "import datetime"
   ]
  },
  {
   "cell_type": "code",
   "execution_count": 2,
   "metadata": {},
   "outputs": [],
   "source": [
    "#DEFINE FUNÇÕES PRINCIPAIS PARA ACESSO DO BANCO DE DADOS COM A BASE INICIAL\n",
    "\n",
    "conn = sqlite3.connect('DIST_DB_ANEEL.db')\n",
    "cursor = conn.cursor()\n",
    "conn_bi = sqlite3.connect('BD_POWER_BI_FINAL.db')\n",
    "cursor_bi = conn_bi.cursor()"
   ]
  },
  {
   "cell_type": "code",
   "execution_count": 3,
   "metadata": {},
   "outputs": [],
   "source": [
    "#PREPARA TABELA COM INFORMAÇÕES UTEIS PARA ANALISE\n",
    "\n",
    "tableName1 = \"DIST_IND_COMPENSACAO_CONSOLIDADO\"\n",
    "tableName2 = \"DIST_IND_DOMINIOS\"\n",
    "columnsNecessary = f\"{tableName1}.SigAgente, {tableName1}.DscConjUndConsumidoras, {tableName1}.SigIndicador, {tableName1}.AnoIndice, {tableName1}.NumPeriodoIndice, {tableName1}.VlrIndiceEnviado, {tableName2}.DscIndicador\"\n",
    "\n",
    "query = f\"\"\"\n",
    "        SELECT {columnsNecessary}\n",
    "        FROM {tableName1}\n",
    "        JOIN {tableName2} ON {tableName1}.SigIndicador = {tableName2}.SigIndicador\n",
    "        WHERE {tableName1}.SigAgente = \"ENEL CE\"\n",
    "\n",
    "        \"\"\"\n",
    "df = pd.read_sql_query(query,conn)\n",
    "\n"
   ]
  },
  {
   "cell_type": "code",
   "execution_count": 4,
   "metadata": {},
   "outputs": [],
   "source": [
    "#AGRUPA POR ANO O TOTAL GASTO EM COMPENSAÇÃO FINANCEIRA POR NÃO ATENDIMENTO DAS NORMAS\n",
    "df_analise = df.copy()\n",
    "df_analise['VlrIndiceEnviado'] = df_analise['VlrIndiceEnviado'].astype(str)\n",
    "df_analise['VlrIndiceEnviado'] = df_analise['VlrIndiceEnviado'].apply(lambda x: float(x.replace(\",\",\".\")))\n",
    "df_analise = df_analise.groupby(['SigAgente','AnoIndice'],)['VlrIndiceEnviado'].sum()\n",
    "df_analise = df_analise.reset_index()\n",
    "df_analise['AumentoPercentual'] = df_analise['VlrIndiceEnviado'].pct_change()\n",
    "df_analise['refDate'] = df_analise['AnoIndice']\n",
    "df_analise['refDate'] = df_analise['refDate'].apply(lambda x: \"01-01-\"+str(x))\n",
    "df_analise['refDate'] = pd.to_datetime(df_analise['refDate'])\n"
   ]
  },
  {
   "cell_type": "code",
   "execution_count": 5,
   "metadata": {},
   "outputs": [],
   "source": [
    "#SOBE PARA O BANCO DE DADOS\n",
    "\n",
    "df_analise.to_sql('IndCompensacaoPorAno',conn_bi, if_exists='replace', index=False)\n",
    "\n",
    "conn.close()\n",
    "conn_bi.close()"
   ]
  }
 ],
 "metadata": {
  "kernelspec": {
   "display_name": "TCC-lRdzp1yv",
   "language": "python",
   "name": "python3"
  },
  "language_info": {
   "codemirror_mode": {
    "name": "ipython",
    "version": 3
   },
   "file_extension": ".py",
   "mimetype": "text/x-python",
   "name": "python",
   "nbconvert_exporter": "python",
   "pygments_lexer": "ipython3",
   "version": "3.10.11"
  }
 },
 "nbformat": 4,
 "nbformat_minor": 2
}
