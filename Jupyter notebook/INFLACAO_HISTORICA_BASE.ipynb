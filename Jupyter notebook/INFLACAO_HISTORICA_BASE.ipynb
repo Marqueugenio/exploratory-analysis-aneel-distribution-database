{
 "cells": [
  {
   "cell_type": "code",
   "execution_count": 25,
   "metadata": {},
   "outputs": [],
   "source": [
    "import pandas as pd\n",
    "import numpy as np\n",
    "import sqlite3\n",
    "import os\n",
    "from datetime import datetime as dt"
   ]
  },
  {
   "cell_type": "code",
   "execution_count": 26,
   "metadata": {},
   "outputs": [],
   "source": [
    "conn = sqlite3.connect('DIST_DB_ANEEL.db')\n",
    "cursor = conn.cursor()\n",
    "conn_bi = sqlite3.connect('BD_POWER_BI_FINAL.db')\n",
    "cursor_bi = conn_bi.cursor()"
   ]
  },
  {
   "cell_type": "code",
   "execution_count": 27,
   "metadata": {},
   "outputs": [],
   "source": [
    "#Dados históricos de inflação anual disponibilizados pelo IBGE no link: \n",
    "#https://www.ibge.gov.br/estatisticas/economicas/precos-e-custos/9256-indice-nacional-de-precos-ao-consumidor-amplo.html?t=series-historicas&utm_source=landing&utm_medium=explica&utm_campaign=inflacao#plano-real-mes\n",
    "\n",
    "inflacaoHistorica = {\n",
    "\n",
    "    '2011': [5.91, 11.32],\n",
    "    '2012': [6.50, 5.10],\n",
    "    '2013': [5.84, 7.81],\n",
    "    '2014': [5.91, 5.53],\n",
    "    '2015': [6.41, 3.67],\n",
    "    '2016': [10.67, 10.54],\n",
    "    '2017': [6.29, 7.19],\n",
    "    '2018': [2.95, -0.53],\n",
    "    '2019': [3.75, 7.55],\n",
    "    '2020': [4.31, 7.32],\n",
    "    '2021': [4.52, 23.14],\n",
    "    '2022': [10.06, 17.79],\n",
    "    '2023': [5.79, 5.46],\n",
    "\n",
    "}"
   ]
  },
  {
   "cell_type": "code",
   "execution_count": 28,
   "metadata": {},
   "outputs": [
    {
     "name": "stdout",
     "output_type": "stream",
     "text": [
      "   acumuladoAnoAnterior   IPCA   IGPM\n",
      "0            2011-01-01   5.91  11.32\n",
      "1            2012-01-01   6.50   5.10\n",
      "2            2013-01-01   5.84   7.81\n",
      "3            2014-01-01   5.91   5.53\n",
      "4            2015-01-01   6.41   3.67\n",
      "5            2016-01-01  10.67  10.54\n",
      "6            2017-01-01   6.29   7.19\n",
      "7            2018-01-01   2.95  -0.53\n",
      "8            2019-01-01   3.75   7.55\n",
      "9            2020-01-01   4.31   7.32\n",
      "10           2021-01-01   4.52  23.14\n",
      "11           2022-01-01  10.06  17.79\n",
      "12           2023-01-01   5.79   5.46\n"
     ]
    }
   ],
   "source": [
    "df = pd.DataFrame(inflacaoHistorica)\n",
    "df = df.transpose()\n",
    "df.reset_index(inplace=True)\n",
    "df = df.rename(columns={'index':'acumuladoAnoAnterior',0:'IPCA',1:'IGPM'})\n",
    "df['acumuladoAnoAnterior'] = df['acumuladoAnoAnterior'].apply(lambda x: x+\"-01-01\")\n",
    "df['acumuladoAnoAnterior'] = pd.to_datetime(df['acumuladoAnoAnterior'])\n",
    "print(df)\n"
   ]
  },
  {
   "cell_type": "code",
   "execution_count": 24,
   "metadata": {},
   "outputs": [],
   "source": [
    "df.to_sql(\"INFLACAO_ACUMULADA_POR_ANO\",conn,if_exists='replace',index=False)\n",
    "#df.to_sql(\"tabelaInflacaoAcumuladaPorAno\",conn_bi,if_exists='replace',index=False)\n",
    "\n",
    "conn.close()\n",
    "conn_bi.close()"
   ]
  }
 ],
 "metadata": {
  "kernelspec": {
   "display_name": "TCC-lRdzp1yv",
   "language": "python",
   "name": "python3"
  },
  "language_info": {
   "codemirror_mode": {
    "name": "ipython",
    "version": 3
   },
   "file_extension": ".py",
   "mimetype": "text/x-python",
   "name": "python",
   "nbconvert_exporter": "python",
   "pygments_lexer": "ipython3",
   "version": "3.10.11"
  }
 },
 "nbformat": 4,
 "nbformat_minor": 2
}
