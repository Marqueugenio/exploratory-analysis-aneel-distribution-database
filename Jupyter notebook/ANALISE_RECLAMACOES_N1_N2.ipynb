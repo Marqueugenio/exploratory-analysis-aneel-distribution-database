{
 "cells": [
  {
   "cell_type": "code",
   "execution_count": 1,
   "metadata": {},
   "outputs": [],
   "source": [
    "import pandas as pd\n",
    "import numpy as np\n",
    "import sqlite3\n",
    "import matplotlib.pyplot as plt\n",
    "import os\n",
    "from datetime import datetime as dt\n",
    "import datetime"
   ]
  },
  {
   "cell_type": "code",
   "execution_count": 16,
   "metadata": {},
   "outputs": [],
   "source": [
    "#DEFINE FUNÇÕES PRINCIPAIS PARA ACESSO DO BANCO DE DADOS COM A BASE INICIAL\n",
    "\n",
    "conn = sqlite3.connect('DIST_DB_ANEEL.db')\n",
    "cursor = conn.cursor()\n",
    "conn_bi = sqlite3.connect('BD_POWER_BI_FINAL.db')\n",
    "cursor_bi = conn_bi.cursor()"
   ]
  },
  {
   "cell_type": "code",
   "execution_count": 13,
   "metadata": {},
   "outputs": [],
   "source": [
    "#PREPARA TABELA COM INFORMAÇÕES UTEIS PARA ANALISE\n",
    "\n",
    "tableName1 = \"DIST_RECLAMACOES_N1_N2\"\n",
    "columnsNecessary = f\"SigAgente,DatReferencia,DescReclamacao,QtdReclamacoesRecebidas,QtdReclamacoesImprocedentes \"\n",
    "\n",
    "query = f\"\"\"\n",
    "        SELECT {columnsNecessary}\n",
    "        FROM {tableName1}\n",
    "        WHERE SigAgente = \"ENEL CE\"\n",
    "\n",
    "        \"\"\"\n",
    "df = pd.read_sql_query(query,conn)\n"
   ]
  },
  {
   "cell_type": "code",
   "execution_count": 17,
   "metadata": {},
   "outputs": [
    {
     "name": "stdout",
     "output_type": "stream",
     "text": [
      "     Ano  QtdReclamacoesProcedentes  AumentoPercentual DatReferencia\n",
      "0   2010                     657585                NaN    2010-01-01\n",
      "1   2011                     744047           0.131484    2011-01-01\n",
      "2   2012                     657809          -0.115904    2012-01-01\n",
      "3   2013                     724007           0.100634    2013-01-01\n",
      "4   2014                     738234           0.019650    2014-01-01\n",
      "5   2015                     734244          -0.005405    2015-01-01\n",
      "6   2016                     773372           0.053290    2016-01-01\n",
      "7   2017                     746250          -0.035070    2017-01-01\n",
      "8   2018                     758014           0.015764    2018-01-01\n",
      "9   2019                    1039975           0.371973    2019-01-01\n",
      "10  2020                    1209168           0.162689    2020-01-01\n",
      "11  2021                     895688          -0.259253    2021-01-01\n",
      "12  2022                     986027           0.100860    2022-01-01\n",
      "13  2023                     465039          -0.528371    2023-01-01\n"
     ]
    }
   ],
   "source": [
    "def removeMotivoInvalido(df): #Remove as reclamaçoes com motivos sem aplicação para esta analise\n",
    "    df['MotivoValido'] = ''\n",
    "    listaRemocao = ['Elogio','Informação','Alteração Cadastral','Denúncia','Custo de Disponibilidade','Sugestão','Problemas de instalação interna na unidade consumidora',\\\n",
    "                    'Prazos','Indisponibilidade de Agência/Postos e Canais de atendimento/Atend. Telefônico/Serviço de Arrecadação','Cobrança Indevida de Atividade Acessória']\n",
    "\n",
    "    df['MotivoValido'] = ~df['DescReclamacao'].isin(listaRemocao)\n",
    "    df = df[df['MotivoValido']]\n",
    "\n",
    "    return df\n",
    "\n",
    "df_analise = df.copy()\n",
    "df_analise['QtdReclamacoesProcedentes'] = df_analise['QtdReclamacoesRecebidas'] - df_analise['QtdReclamacoesImprocedentes'] #Calcula a diferença entre reclamações recebidas e as improcedentes\n",
    "df_analise = df_analise.drop(columns=['QtdReclamacoesRecebidas','QtdReclamacoesImprocedentes']) # Deleta colunas não utilizadas\n",
    "df_analise['Ano'] = df_analise['DatReferencia'].apply(lambda x: x[0:4]) #Cria coluna ano\n",
    "df_analise['DatReferencia'] = pd.to_datetime(df_analise['DatReferencia']) \n",
    "#print(set(df['DescReclamacao']))\n",
    "\n",
    "\n",
    "df_analise = removeMotivoInvalido(df_analise) #Remove as reclamaçoes com motivos sem aplicação para esta analise\n",
    "\n",
    "#Agrupa por tipo e soma a quantidade de reclamações - Analise 1\n",
    "df_analise1 = df_analise.groupby(['DescReclamacao'])['QtdReclamacoesProcedentes'].sum().reset_index().sort_values('QtdReclamacoesProcedentes',ascending=False)\n",
    "\n",
    "#Agrupa por ano e soma a quantidade de reclamacoes - Analise 2\n",
    "df_analise2 = df_analise.groupby(['Ano'])['QtdReclamacoesProcedentes'].sum().reset_index().sort_values('Ano',ascending=True)\n",
    "df_analise2['AumentoPercentual'] = df_analise2['QtdReclamacoesProcedentes'].pct_change()\n",
    "df_analise2['DatReferencia'] = df_analise2['Ano']\n",
    "df_analise2['DatReferencia'] = df_analise2['DatReferencia'].apply(lambda x: \"01-01-\"+str(x))\n",
    "df_analise2['DatReferencia'] = pd.to_datetime(df_analise2['DatReferencia'])\n",
    "print(df_analise2)\n",
    "\n",
    "\n"
   ]
  },
  {
   "cell_type": "code",
   "execution_count": 18,
   "metadata": {},
   "outputs": [],
   "source": [
    "#SOBE PARA O BANCO DE DADOS\n",
    "\n",
    "df_analise1.to_sql('ReclamacoesN1N2_1',conn_bi, if_exists='replace', index=False)\n",
    "df_analise2.to_sql('ReclamacoesN1N2_2',conn_bi, if_exists='replace', index=False)\n",
    "df_analise.to_sql('ReclamacoesN1N2_Geral',conn_bi, if_exists='replace', index=False)\n",
    "\n",
    "conn.close()\n",
    "conn_bi.close()"
   ]
  }
 ],
 "metadata": {
  "kernelspec": {
   "display_name": "TCC-lRdzp1yv",
   "language": "python",
   "name": "python3"
  },
  "language_info": {
   "codemirror_mode": {
    "name": "ipython",
    "version": 3
   },
   "file_extension": ".py",
   "mimetype": "text/x-python",
   "name": "python",
   "nbconvert_exporter": "python",
   "pygments_lexer": "ipython3",
   "version": "3.10.11"
  }
 },
 "nbformat": 4,
 "nbformat_minor": 2
}
