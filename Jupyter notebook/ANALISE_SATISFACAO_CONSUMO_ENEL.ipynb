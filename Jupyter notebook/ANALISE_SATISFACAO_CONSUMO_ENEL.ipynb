{
 "cells": [
  {
   "cell_type": "code",
   "execution_count": 1,
   "metadata": {},
   "outputs": [],
   "source": [
    "import pandas as pd\n",
    "import numpy as np\n",
    "import sqlite3\n",
    "import os\n",
    "from datetime import datetime as dt\n",
    "import datetime\n"
   ]
  },
  {
   "cell_type": "code",
   "execution_count": 10,
   "metadata": {},
   "outputs": [],
   "source": [
    "#DEFINE FUNÇÕES PRINCIPAIS PARA ACESSO DO BANCO DE DADOS COM A BASE INICIAL\n",
    "\n",
    "conn = sqlite3.connect('DIST_DB_ANEEL.db')\n",
    "cursor = conn.cursor()\n",
    "conn_bi = sqlite3.connect('BD_POWER_BI_FINAL.db')\n",
    "cursor_bi = conn_bi.cursor()"
   ]
  },
  {
   "cell_type": "code",
   "execution_count": 17,
   "metadata": {},
   "outputs": [],
   "source": [
    "#PREPARA TABELA COM INFORMAÇÕES UTEIS PARA ANALISE\n",
    "\n",
    "tableName1 = \"DIST_IND_SATISF_CONSU_ANEEL\"\n",
    "columnsNecessary = f\"{tableName1}.NumAno,{tableName1}.NumOrdemIASC,{tableName1}.MdaIndicadorQualidade,{tableName1}.MdaIndicadorSatisfacao, MdaIndicadorFidelidade,\\\n",
    "                     MdaIndicadorValor, MdaIndicadorConfianca \"\n",
    "\n",
    "query = f\"\"\"\n",
    "        SELECT {columnsNecessary}\n",
    "        FROM {tableName1}\n",
    "        WHERE SigAgente = \"Enel Distribuição Ceará\"\n",
    "\n",
    "        \"\"\"\n",
    "df = pd.read_sql_query(query,conn)\n",
    "df['refDate'] = df['NumAno']\n",
    "df['refDate'] = df['refDate'].apply(lambda x: \"01-01-\"+str(x))\n",
    "df['refDate'] = pd.to_datetime(df['refDate'])\n",
    "\n",
    "df = df[df['refDate'].dt.year>=2010]\n"
   ]
  },
  {
   "cell_type": "code",
   "execution_count": 18,
   "metadata": {},
   "outputs": [],
   "source": [
    "#SOBE PARA O BANCO DE DADOS\n",
    "df.to_sql('SatisfacaoConsumidorEnelCeara',conn_bi, if_exists='replace', index=False)\n",
    "\n",
    "conn.close()\n",
    "conn_bi.close()"
   ]
  }
 ],
 "metadata": {
  "kernelspec": {
   "display_name": "TCC-lRdzp1yv",
   "language": "python",
   "name": "python3"
  },
  "language_info": {
   "codemirror_mode": {
    "name": "ipython",
    "version": 3
   },
   "file_extension": ".py",
   "mimetype": "text/x-python",
   "name": "python",
   "nbconvert_exporter": "python",
   "pygments_lexer": "ipython3",
   "version": "3.10.11"
  }
 },
 "nbformat": 4,
 "nbformat_minor": 2
}
