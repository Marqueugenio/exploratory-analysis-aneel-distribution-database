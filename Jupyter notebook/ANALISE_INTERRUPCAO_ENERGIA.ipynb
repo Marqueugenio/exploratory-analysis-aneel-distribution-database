{
 "cells": [
  {
   "cell_type": "code",
   "execution_count": 1,
   "metadata": {},
   "outputs": [],
   "source": [
    "import pandas as pd\n",
    "import numpy as np\n",
    "import sqlite3\n",
    "import matplotlib.pyplot as plt\n",
    "import os\n",
    "from datetime import datetime as dt\n",
    "import datetime"
   ]
  },
  {
   "cell_type": "code",
   "execution_count": 2,
   "metadata": {},
   "outputs": [],
   "source": [
    "#DEFINE FUNÇÕES PRINCIPAIS PARA ACESSO DO BANCO DE DADOS COM A BASE INICIAL\n",
    "\n",
    "conn = sqlite3.connect('DIST_DB_ANEEL.db')\n",
    "cursor = conn.cursor()\n",
    "conn_bi = sqlite3.connect('BD_POWER_BI_FINAL.db')\n",
    "cursor_bi = conn_bi.cursor()"
   ]
  },
  {
   "cell_type": "code",
   "execution_count": 3,
   "metadata": {},
   "outputs": [],
   "source": [
    "#PREPARA TABELA COM INFORMAÇÕES UTEIS PARA ANALISE\n",
    "\n",
    "tableName = \"DIST_INT_ELE_CONSOLIDADO\"\n",
    "columnsNecessary = f'{tableName}.SigAgente, {tableName}.FatGeradorInterrupcao, {tableName}.DscTipoInterrupcao, \\\n",
    "                     {tableName}.IdeMotivoExpurgo, {tableName}.DatInicioInterrupcao, {tableName}.DatFimInterrupcao, {tableName}.NumNivelTensao, {tableName}.NumUnidadeConsumidora, \\\n",
    "                     {tableName}.NumAno'\n",
    "\n",
    "query = f\"\"\" SELECT {columnsNecessary}\n",
    "             FROM {tableName}\n",
    "             WHERE SigAgente LIKE '%ENEL CE%'    \n",
    "             \n",
    "\"\"\"\n",
    "\n",
    "df = pd.read_sql_query(query,conn)\n"
   ]
  },
  {
   "cell_type": "code",
   "execution_count": 4,
   "metadata": {},
   "outputs": [],
   "source": [
    "def changeTensaoToGroup(tensao): #Muda tensão para grupo\n",
    "    if tensao == 13800:\n",
    "        return \"A\"\n",
    "    elif tensao == 220:\n",
    "        return \"B\"\n",
    "    elif tensao == 69000:\n",
    "        return \"A\"\n",
    "\n",
    "\n",
    "df_modificada = df.copy()\n",
    "df_modificada['NumNivelTensao'] = df_modificada['NumNivelTensao'].apply(lambda x: changeTensaoToGroup(x))\n",
    "df_modificada.rename(columns={'NumNivelTensao':'GrupoConsumidor'}, inplace=True)\n",
    "df_modificada['DuracaoInterrupcaoHoras'] = ''\n",
    "df_modificada['DatInicioInterrupcao'] = pd.to_datetime(df_modificada['DatInicioInterrupcao'])\n",
    "df_modificada['DatFimInterrupcao'] = pd.to_datetime(df_modificada['DatFimInterrupcao'])\n",
    "\n",
    "#Calcula a duração em horas de cada interrupção\n",
    "\n",
    "for row in df_modificada.itertuples():\n",
    "    inicio = row.DatInicioInterrupcao\n",
    "    fim = row.DatFimInterrupcao\n",
    "    duracao = round(float(((fim - inicio).total_seconds())/3600),2)\n",
    "    df_modificada.at[row.Index,'DuracaoInterrupcaoHoras'] = duracao\n",
    "\n",
    "df_modificada['TempoInterrupcaoGlobal'] = df_modificada['NumUnidadeConsumidora']*df_modificada['DuracaoInterrupcaoHoras']\n",
    "    \n",
    "\n",
    "# for gp in set(df_modificada['GrupoConsumidor']):\n",
    "#     df_temp = df_modificada[df_modificada['GrupoConsumidor']==gp]\n",
    "#     df_temp.to_csv(rf\"C:\\Users\\marco\\Desktop\\teste_parcial_{gp}.csv\", sep=';',index=False, encoding='ansi', decimal=',')"
   ]
  },
  {
   "cell_type": "code",
   "execution_count": 5,
   "metadata": {},
   "outputs": [],
   "source": [
    "#Agrupa por ano e soma a duração de interrupção por tipo (programada/não-programada)\n",
    "\n",
    "df_final_bi = df_modificada.copy()\n",
    "df_final_bi = df_final_bi[['SigAgente','DscTipoInterrupcao','NumUnidadeConsumidora','GrupoConsumidor','NumAno','DuracaoInterrupcaoHoras','DatInicioInterrupcao','TempoInterrupcaoGlobal']]\n",
    "df_final_bi.to_sql('InterrupcaoEletricidadePorGrupo',conn_bi, if_exists='replace', index=False)\n",
    "\n",
    "conn.close()\n",
    "conn_bi.close()"
   ]
  }
 ],
 "metadata": {
  "kernelspec": {
   "display_name": "TCC-lRdzp1yv",
   "language": "python",
   "name": "python3"
  },
  "language_info": {
   "codemirror_mode": {
    "name": "ipython",
    "version": 3
   },
   "file_extension": ".py",
   "mimetype": "text/x-python",
   "name": "python",
   "nbconvert_exporter": "python",
   "pygments_lexer": "ipython3",
   "version": "3.10.11"
  },
  "orig_nbformat": 4
 },
 "nbformat": 4,
 "nbformat_minor": 2
}
