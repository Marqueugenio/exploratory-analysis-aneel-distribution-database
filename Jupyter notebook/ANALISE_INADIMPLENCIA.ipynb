{
 "cells": [
  {
   "cell_type": "code",
   "execution_count": 1,
   "metadata": {},
   "outputs": [],
   "source": [
    "import pandas as pd\n",
    "import numpy as np\n",
    "import sqlite3\n",
    "import matplotlib.pyplot as plt\n",
    "import os\n",
    "from datetime import datetime as dt\n",
    "import datetime"
   ]
  },
  {
   "cell_type": "code",
   "execution_count": 7,
   "metadata": {},
   "outputs": [],
   "source": [
    "#DEFINE FUNÇÕES PRINCIPAIS PARA ACESSO DO BANCO DE DADOS COM A BASE INICIAL\n",
    "\n",
    "conn = sqlite3.connect('DIST_DB_ANEEL.db')\n",
    "cursor = conn.cursor()\n",
    "conn_bi = sqlite3.connect('BD_POWER_BI_FINAL.db')\n",
    "cursor_bi = conn_bi.cursor()"
   ]
  },
  {
   "cell_type": "code",
   "execution_count": 8,
   "metadata": {},
   "outputs": [],
   "source": [
    "#PREPARA TABELA COM INFORMAÇÕES UTEIS PARA ANALISE\n",
    "\n",
    "tableName1 = \"DIST_INADIMPLENCIA\"\n",
    "columnsNecessary = f\"SigAgente,AnoIndice,NumPeriodoIndice,VlrIndiceEnviado \"\n",
    "\n",
    "query = f\"\"\"\n",
    "        SELECT {columnsNecessary}\n",
    "        FROM {tableName1}\n",
    "        WHERE SigAgente = \"ENEL CE\"\n",
    "\n",
    "        \"\"\"\n",
    "df = pd.read_sql_query(query,conn)"
   ]
  },
  {
   "cell_type": "code",
   "execution_count": 9,
   "metadata": {},
   "outputs": [
    {
     "name": "stdout",
     "output_type": "stream",
     "text": [
      "  SigAgente  AnoIndice  VlrIndiceEnviado  AumentoPercentual    refDate\n",
      "0   ENEL CE       2014        1125272.88                NaN 2014-01-01\n",
      "1   ENEL CE       2015        1250471.39           0.111261 2015-01-01\n",
      "2   ENEL CE       2016        2106050.49           0.684205 2016-01-01\n",
      "3   ENEL CE       2017        1740182.25          -0.173722 2017-01-01\n",
      "4   ENEL CE       2018        1430829.94          -0.177770 2018-01-01\n",
      "5   ENEL CE       2019        1467784.38           0.025827 2019-01-01\n",
      "6   ENEL CE       2020         681336.72          -0.535806 2020-01-01\n",
      "7   ENEL CE       2021        2536490.11           2.722814 2021-01-01\n",
      "8   ENEL CE       2022        3066215.65           0.208842 2022-01-01\n"
     ]
    }
   ],
   "source": [
    "#AGRUPA POR ANO O TOTAL EM INADIMPLENCIAS FINANCEIRAS\n",
    "\n",
    "df_analise = df.copy()\n",
    "df_analise['VlrIndiceEnviado'] = df_analise['VlrIndiceEnviado'].astype(str)\n",
    "df_analise['VlrIndiceEnviado'] = df_analise['VlrIndiceEnviado'].apply(lambda x: float(x.replace(\",\",\".\")))\n",
    "df_analise = df_analise.groupby(['SigAgente','AnoIndice'],)['VlrIndiceEnviado'].sum()\n",
    "df_analise = df_analise.reset_index()\n",
    "df_analise['AumentoPercentual'] = df_analise['VlrIndiceEnviado'].pct_change()\n",
    "df_analise['refDate'] = df_analise['AnoIndice']\n",
    "df_analise['refDate'] = df_analise['refDate'].apply(lambda x: \"01-01-\"+str(x))\n",
    "df_analise['refDate'] = pd.to_datetime(df_analise['refDate'])\n",
    "\n",
    "print(df_analise)"
   ]
  },
  {
   "cell_type": "code",
   "execution_count": 10,
   "metadata": {},
   "outputs": [],
   "source": [
    "#SOBE PARA O BANCO DE DADOS\n",
    "df_analise.to_sql('Inadimplencia',conn_bi, if_exists='replace', index=False)\n",
    "\n",
    "conn.close()\n",
    "conn_bi.close()"
   ]
  }
 ],
 "metadata": {
  "kernelspec": {
   "display_name": "TCC-lRdzp1yv",
   "language": "python",
   "name": "python3"
  },
  "language_info": {
   "codemirror_mode": {
    "name": "ipython",
    "version": 3
   },
   "file_extension": ".py",
   "mimetype": "text/x-python",
   "name": "python",
   "nbconvert_exporter": "python",
   "pygments_lexer": "ipython3",
   "version": "3.10.11"
  }
 },
 "nbformat": 4,
 "nbformat_minor": 2
}
